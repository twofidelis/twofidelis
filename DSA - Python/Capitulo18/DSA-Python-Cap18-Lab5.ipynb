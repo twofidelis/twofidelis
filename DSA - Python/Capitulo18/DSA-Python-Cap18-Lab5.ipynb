{
 "cells": [
  {
   "cell_type": "markdown",
   "id": "f73648a6",
   "metadata": {},
   "source": [
    "# <font color='blue'>Data Science Academy</font>\n",
    "\n",
    "## <font color='blue'>Fundamentos de Linguagem Python Para Análise de Dados e Data Science</font>\n",
    "\n",
    "## <font color='blue'>Lab 5</font>\n",
    "\n",
    "## <font color='blue'>Robô Trading com Inteligência Artificial em Linguagem Python</font>\n",
    "\n",
    "Problema de Negócio:\n",
    "\n",
    "Construir um robô (modelo em Linguagem Python) baseado em Inteligência Artificial que aprenda a operar na bolsa de valores a partir de experimentos de compra e venda de ações. Dado um saldo inicial o modelo deve apresentar o resultado (lucro) a ser obtido depois de ações de compra e venda."
   ]
  },
  {
   "cell_type": "markdown",
   "id": "660124ff",
   "metadata": {},
   "source": [
    "![DSA](imagens/dsa_cap18.png)"
   ]
  },
  {
   "cell_type": "code",
   "execution_count": 1,
   "id": "151aa3e0",
   "metadata": {},
   "outputs": [
    {
     "name": "stdout",
     "output_type": "stream",
     "text": [
      "Versão da Linguagem Python Usada Neste Jupyter Notebook: 3.12.5\n"
     ]
    }
   ],
   "source": [
    "# Versão da Linguagem Python\n",
    "from platform import python_version\n",
    "print('Versão da Linguagem Python Usada Neste Jupyter Notebook:', python_version())"
   ]
  },
  {
   "cell_type": "markdown",
   "id": "d06bbba2",
   "metadata": {},
   "source": [
    "https://plotly.com/"
   ]
  },
  {
   "cell_type": "code",
   "execution_count": 2,
   "id": "15d34a0a",
   "metadata": {},
   "outputs": [
    {
     "name": "stderr",
     "output_type": "stream",
     "text": [
      "\n",
      "[notice] A new release of pip is available: 24.2 -> 24.3.1\n",
      "[notice] To update, run: python.exe -m pip install --upgrade pip\n"
     ]
    }
   ],
   "source": [
    "# Instala o pacote \n",
    "!pip install -q plotly"
   ]
  },
  {
   "cell_type": "code",
   "execution_count": 3,
   "id": "54603da7",
   "metadata": {},
   "outputs": [],
   "source": [
    "# Imports\n",
    "import random\n",
    "import plotly.graph_objects as go\n",
    "import pandas as pd\n",
    "import numpy as np\n",
    "from datetime import datetime"
   ]
  },
  {
   "cell_type": "markdown",
   "id": "9fc7ea36",
   "metadata": {},
   "source": [
    "## Carregando e Visualizando os Dados com Candlestick"
   ]
  },
  {
   "cell_type": "code",
   "execution_count": 4,
   "id": "eebf5862",
   "metadata": {},
   "outputs": [],
   "source": [
    "# Carrega os dados\n",
    "df = pd.read_csv('dataset.csv')"
   ]
  },
  {
   "cell_type": "code",
   "execution_count": 5,
   "id": "d0f5fd2c",
   "metadata": {},
   "outputs": [
    {
     "data": {
      "text/plain": [
       "(506, 11)"
      ]
     },
     "execution_count": 5,
     "metadata": {},
     "output_type": "execute_result"
    }
   ],
   "source": [
    "df.shape"
   ]
  },
  {
   "cell_type": "code",
   "execution_count": 6,
   "id": "0000b336",
   "metadata": {},
   "outputs": [
    {
     "data": {
      "text/html": [
       "<div>\n",
       "<style scoped>\n",
       "    .dataframe tbody tr th:only-of-type {\n",
       "        vertical-align: middle;\n",
       "    }\n",
       "\n",
       "    .dataframe tbody tr th {\n",
       "        vertical-align: top;\n",
       "    }\n",
       "\n",
       "    .dataframe thead th {\n",
       "        text-align: right;\n",
       "    }\n",
       "</style>\n",
       "<table border=\"1\" class=\"dataframe\">\n",
       "  <thead>\n",
       "    <tr style=\"text-align: right;\">\n",
       "      <th></th>\n",
       "      <th>Date</th>\n",
       "      <th>AAPL.Open</th>\n",
       "      <th>AAPL.High</th>\n",
       "      <th>AAPL.Low</th>\n",
       "      <th>AAPL.Close</th>\n",
       "      <th>AAPL.Volume</th>\n",
       "      <th>AAPL.Adjusted</th>\n",
       "      <th>dn</th>\n",
       "      <th>mavg</th>\n",
       "      <th>up</th>\n",
       "      <th>direction</th>\n",
       "    </tr>\n",
       "  </thead>\n",
       "  <tbody>\n",
       "    <tr>\n",
       "      <th>0</th>\n",
       "      <td>2015-02-17</td>\n",
       "      <td>127.489998</td>\n",
       "      <td>128.880005</td>\n",
       "      <td>126.919998</td>\n",
       "      <td>127.830002</td>\n",
       "      <td>63152400</td>\n",
       "      <td>122.905254</td>\n",
       "      <td>106.741052</td>\n",
       "      <td>117.927667</td>\n",
       "      <td>129.114281</td>\n",
       "      <td>Increasing</td>\n",
       "    </tr>\n",
       "    <tr>\n",
       "      <th>1</th>\n",
       "      <td>2015-02-18</td>\n",
       "      <td>127.629997</td>\n",
       "      <td>128.779999</td>\n",
       "      <td>127.449997</td>\n",
       "      <td>128.720001</td>\n",
       "      <td>44891700</td>\n",
       "      <td>123.760965</td>\n",
       "      <td>107.842423</td>\n",
       "      <td>118.940333</td>\n",
       "      <td>130.038244</td>\n",
       "      <td>Increasing</td>\n",
       "    </tr>\n",
       "    <tr>\n",
       "      <th>2</th>\n",
       "      <td>2015-02-19</td>\n",
       "      <td>128.479996</td>\n",
       "      <td>129.029999</td>\n",
       "      <td>128.330002</td>\n",
       "      <td>128.449997</td>\n",
       "      <td>37362400</td>\n",
       "      <td>123.501363</td>\n",
       "      <td>108.894245</td>\n",
       "      <td>119.889167</td>\n",
       "      <td>130.884089</td>\n",
       "      <td>Decreasing</td>\n",
       "    </tr>\n",
       "    <tr>\n",
       "      <th>3</th>\n",
       "      <td>2015-02-20</td>\n",
       "      <td>128.619995</td>\n",
       "      <td>129.500000</td>\n",
       "      <td>128.050003</td>\n",
       "      <td>129.500000</td>\n",
       "      <td>48948400</td>\n",
       "      <td>124.510914</td>\n",
       "      <td>109.785449</td>\n",
       "      <td>120.763500</td>\n",
       "      <td>131.741551</td>\n",
       "      <td>Increasing</td>\n",
       "    </tr>\n",
       "    <tr>\n",
       "      <th>4</th>\n",
       "      <td>2015-02-23</td>\n",
       "      <td>130.020004</td>\n",
       "      <td>133.000000</td>\n",
       "      <td>129.660004</td>\n",
       "      <td>133.000000</td>\n",
       "      <td>70974100</td>\n",
       "      <td>127.876074</td>\n",
       "      <td>110.372516</td>\n",
       "      <td>121.720167</td>\n",
       "      <td>133.067817</td>\n",
       "      <td>Increasing</td>\n",
       "    </tr>\n",
       "  </tbody>\n",
       "</table>\n",
       "</div>"
      ],
      "text/plain": [
       "         Date   AAPL.Open   AAPL.High    AAPL.Low  AAPL.Close  AAPL.Volume  \\\n",
       "0  2015-02-17  127.489998  128.880005  126.919998  127.830002     63152400   \n",
       "1  2015-02-18  127.629997  128.779999  127.449997  128.720001     44891700   \n",
       "2  2015-02-19  128.479996  129.029999  128.330002  128.449997     37362400   \n",
       "3  2015-02-20  128.619995  129.500000  128.050003  129.500000     48948400   \n",
       "4  2015-02-23  130.020004  133.000000  129.660004  133.000000     70974100   \n",
       "\n",
       "   AAPL.Adjusted          dn        mavg          up   direction  \n",
       "0     122.905254  106.741052  117.927667  129.114281  Increasing  \n",
       "1     123.760965  107.842423  118.940333  130.038244  Increasing  \n",
       "2     123.501363  108.894245  119.889167  130.884089  Decreasing  \n",
       "3     124.510914  109.785449  120.763500  131.741551  Increasing  \n",
       "4     127.876074  110.372516  121.720167  133.067817  Increasing  "
      ]
     },
     "execution_count": 6,
     "metadata": {},
     "output_type": "execute_result"
    }
   ],
   "source": [
    "df.head()"
   ]
  },
  {
   "cell_type": "markdown",
   "id": "7eedc4c2",
   "metadata": {},
   "source": [
    "O Candlestick é um tipo de gráfico financeiro utilizado para descrever a movimentação de preços de determinados ativos (ações, criptomoedas, etc.). Em contraste com um gráfico de linha simples do preço de fechamento, ele oferece muito mais informações sobre a dinâmica dos preços - é baseado em dados OHLC, o que significa que contém os preços de abertura, alta, baixa e fechamento (geralmente junto com o volume). Esses valores podem ser mostrados em diferentes frequências de amostragem (minuto, hora, dia, semana, etc.) e são frequentemente usados como base para análises técnicas.\n",
    "\n",
    "https://plotly.com/python/candlestick-charts/"
   ]
  },
  {
   "cell_type": "code",
   "execution_count": 8,
   "id": "f751646d",
   "metadata": {},
   "outputs": [
    {
     "ename": "ValueError",
     "evalue": "Mime type rendering requires nbformat>=4.2.0 but it is not installed",
     "output_type": "error",
     "traceback": [
      "\u001b[1;31m---------------------------------------------------------------------------\u001b[0m",
      "\u001b[1;31mValueError\u001b[0m                                Traceback (most recent call last)",
      "Cell \u001b[1;32mIn[8], line 8\u001b[0m\n\u001b[0;32m      1\u001b[0m \u001b[38;5;66;03m# Candlestick\u001b[39;00m\n\u001b[0;32m      2\u001b[0m fig \u001b[38;5;241m=\u001b[39m go\u001b[38;5;241m.\u001b[39mFigure(data \u001b[38;5;241m=\u001b[39m [go\u001b[38;5;241m.\u001b[39mCandlestick(x \u001b[38;5;241m=\u001b[39m df[\u001b[38;5;124m'\u001b[39m\u001b[38;5;124mDate\u001b[39m\u001b[38;5;124m'\u001b[39m],\n\u001b[0;32m      3\u001b[0m                 \u001b[38;5;28mopen\u001b[39m \u001b[38;5;241m=\u001b[39m df[\u001b[38;5;124m'\u001b[39m\u001b[38;5;124mAAPL.Open\u001b[39m\u001b[38;5;124m'\u001b[39m],\n\u001b[0;32m      4\u001b[0m                 high \u001b[38;5;241m=\u001b[39m df[\u001b[38;5;124m'\u001b[39m\u001b[38;5;124mAAPL.High\u001b[39m\u001b[38;5;124m'\u001b[39m],\n\u001b[0;32m      5\u001b[0m                 low \u001b[38;5;241m=\u001b[39m df[\u001b[38;5;124m'\u001b[39m\u001b[38;5;124mAAPL.Low\u001b[39m\u001b[38;5;124m'\u001b[39m],\n\u001b[0;32m      6\u001b[0m                 close \u001b[38;5;241m=\u001b[39m df[\u001b[38;5;124m'\u001b[39m\u001b[38;5;124mAAPL.Close\u001b[39m\u001b[38;5;124m'\u001b[39m])])\n\u001b[1;32m----> 8\u001b[0m \u001b[43mfig\u001b[49m\u001b[38;5;241;43m.\u001b[39;49m\u001b[43mshow\u001b[49m\u001b[43m(\u001b[49m\u001b[43m)\u001b[49m\n",
      "File \u001b[1;32m~\\AppData\\Roaming\\Python\\Python312\\site-packages\\plotly\\basedatatypes.py:3410\u001b[0m, in \u001b[0;36mBaseFigure.show\u001b[1;34m(self, *args, **kwargs)\u001b[0m\n\u001b[0;32m   3377\u001b[0m \u001b[38;5;250m\u001b[39m\u001b[38;5;124;03m\"\"\"\u001b[39;00m\n\u001b[0;32m   3378\u001b[0m \u001b[38;5;124;03mShow a figure using either the default renderer(s) or the renderer(s)\u001b[39;00m\n\u001b[0;32m   3379\u001b[0m \u001b[38;5;124;03mspecified by the renderer argument\u001b[39;00m\n\u001b[1;32m   (...)\u001b[0m\n\u001b[0;32m   3406\u001b[0m \u001b[38;5;124;03mNone\u001b[39;00m\n\u001b[0;32m   3407\u001b[0m \u001b[38;5;124;03m\"\"\"\u001b[39;00m\n\u001b[0;32m   3408\u001b[0m \u001b[38;5;28;01mimport\u001b[39;00m \u001b[38;5;21;01mplotly\u001b[39;00m\u001b[38;5;21;01m.\u001b[39;00m\u001b[38;5;21;01mio\u001b[39;00m \u001b[38;5;28;01mas\u001b[39;00m \u001b[38;5;21;01mpio\u001b[39;00m\n\u001b[1;32m-> 3410\u001b[0m \u001b[38;5;28;01mreturn\u001b[39;00m \u001b[43mpio\u001b[49m\u001b[38;5;241;43m.\u001b[39;49m\u001b[43mshow\u001b[49m\u001b[43m(\u001b[49m\u001b[38;5;28;43mself\u001b[39;49m\u001b[43m,\u001b[49m\u001b[43m \u001b[49m\u001b[38;5;241;43m*\u001b[39;49m\u001b[43margs\u001b[49m\u001b[43m,\u001b[49m\u001b[43m \u001b[49m\u001b[38;5;241;43m*\u001b[39;49m\u001b[38;5;241;43m*\u001b[39;49m\u001b[43mkwargs\u001b[49m\u001b[43m)\u001b[49m\n",
      "File \u001b[1;32m~\\AppData\\Roaming\\Python\\Python312\\site-packages\\plotly\\io\\_renderers.py:394\u001b[0m, in \u001b[0;36mshow\u001b[1;34m(fig, renderer, validate, **kwargs)\u001b[0m\n\u001b[0;32m    389\u001b[0m         \u001b[38;5;28;01mraise\u001b[39;00m \u001b[38;5;167;01mValueError\u001b[39;00m(\n\u001b[0;32m    390\u001b[0m             \u001b[38;5;124m\"\u001b[39m\u001b[38;5;124mMime type rendering requires ipython but it is not installed\u001b[39m\u001b[38;5;124m\"\u001b[39m\n\u001b[0;32m    391\u001b[0m         )\n\u001b[0;32m    393\u001b[0m     \u001b[38;5;28;01mif\u001b[39;00m \u001b[38;5;129;01mnot\u001b[39;00m nbformat \u001b[38;5;129;01mor\u001b[39;00m Version(nbformat\u001b[38;5;241m.\u001b[39m__version__) \u001b[38;5;241m<\u001b[39m Version(\u001b[38;5;124m\"\u001b[39m\u001b[38;5;124m4.2.0\u001b[39m\u001b[38;5;124m\"\u001b[39m):\n\u001b[1;32m--> 394\u001b[0m         \u001b[38;5;28;01mraise\u001b[39;00m \u001b[38;5;167;01mValueError\u001b[39;00m(\n\u001b[0;32m    395\u001b[0m             \u001b[38;5;124m\"\u001b[39m\u001b[38;5;124mMime type rendering requires nbformat>=4.2.0 but it is not installed\u001b[39m\u001b[38;5;124m\"\u001b[39m\n\u001b[0;32m    396\u001b[0m         )\n\u001b[0;32m    398\u001b[0m     ipython_display\u001b[38;5;241m.\u001b[39mdisplay(bundle, raw\u001b[38;5;241m=\u001b[39m\u001b[38;5;28;01mTrue\u001b[39;00m)\n\u001b[0;32m    400\u001b[0m \u001b[38;5;66;03m# external renderers\u001b[39;00m\n",
      "\u001b[1;31mValueError\u001b[0m: Mime type rendering requires nbformat>=4.2.0 but it is not installed"
     ]
    }
   ],
   "source": [
    "# Candlestick\n",
    "fig = go.Figure(data = [go.Candlestick(x = df['Date'],\n",
    "                open = df['AAPL.Open'],\n",
    "                high = df['AAPL.High'],\n",
    "                low = df['AAPL.Low'],\n",
    "                close = df['AAPL.Close'])])\n",
    "\n",
    "fig.show()"
   ]
  },
  {
   "cell_type": "code",
   "execution_count": 9,
   "id": "939612ba",
   "metadata": {},
   "outputs": [],
   "source": [
    "# Vamos trabalhar com a cotação de fechamento da ação da Apple\n",
    "precos = df['AAPL.Close'].values"
   ]
  },
  {
   "cell_type": "code",
   "execution_count": 10,
   "id": "68b0bbba",
   "metadata": {},
   "outputs": [
    {
     "data": {
      "text/plain": [
       "numpy.ndarray"
      ]
     },
     "execution_count": 10,
     "metadata": {},
     "output_type": "execute_result"
    }
   ],
   "source": [
    "type(precos)"
   ]
  },
  {
   "cell_type": "markdown",
   "id": "bdedf8da",
   "metadata": {},
   "source": [
    "## Configuração do Algoritmo Q-Learning"
   ]
  },
  {
   "cell_type": "code",
   "execution_count": 11,
   "id": "8cfe16d5",
   "metadata": {},
   "outputs": [
    {
     "name": "stdout",
     "output_type": "stream",
     "text": [
      "\n",
      "Definindo os Hiperparâmetros do Q-Learning...\n"
     ]
    }
   ],
   "source": [
    "# Configuração do Q-Learning\n",
    "print('\\nDefinindo os Hiperparâmetros do Q-Learning...')\n",
    "num_episodios = 1000\n",
    "alfa = 0.1\n",
    "gama = 0.99\n",
    "epsilon = 0.1"
   ]
  },
  {
   "cell_type": "markdown",
   "id": "9233c137",
   "metadata": {},
   "source": [
    "## Configuração do Ambiente de Negociação"
   ]
  },
  {
   "cell_type": "code",
   "execution_count": 12,
   "id": "a2b5e7cb",
   "metadata": {},
   "outputs": [
    {
     "name": "stdout",
     "output_type": "stream",
     "text": [
      "\n",
      "Configurando o Ambiente de Negociação...\n"
     ]
    }
   ],
   "source": [
    "# Configuração do ambiente de negociação\n",
    "print('\\nConfigurando o Ambiente de Negociação...')\n",
    "acoes = ['comprar', 'vender', 'manter']\n",
    "saldo_inicial = 1000\n",
    "num_acoes_inicial = 0"
   ]
  },
  {
   "cell_type": "markdown",
   "id": "c9843f68",
   "metadata": {},
   "source": [
    "## Função Para Executar as Ações (Passos) do Robô Trading"
   ]
  },
  {
   "cell_type": "code",
   "execution_count": 13,
   "id": "ed37d306",
   "metadata": {},
   "outputs": [],
   "source": [
    "# Função para executar uma ação e retornar a recompensa e o próximo estado\n",
    "def executar_acao(estado, acao, saldo, num_acoes, preco):\n",
    "    \n",
    "    # Ação de comprar\n",
    "    if acao == 0:  \n",
    "        if saldo >= preco:\n",
    "            num_acoes += 1\n",
    "            saldo -= preco\n",
    "    \n",
    "    # Ação de vender\n",
    "    elif acao == 1:  \n",
    "        if num_acoes > 0:\n",
    "            num_acoes -= 1\n",
    "            saldo += preco\n",
    "\n",
    "    # Define o lucro\n",
    "    lucro = saldo + num_acoes * preco - saldo_inicial\n",
    "\n",
    "    return (saldo, num_acoes, lucro)"
   ]
  },
  {
   "cell_type": "markdown",
   "id": "89b169a6",
   "metadata": {},
   "source": [
    "## Treinamento do Robô"
   ]
  },
  {
   "cell_type": "code",
   "execution_count": 14,
   "id": "b8d31034",
   "metadata": {},
   "outputs": [
    {
     "name": "stdout",
     "output_type": "stream",
     "text": [
      "\n",
      "Inicializando a Tabela Q...\n"
     ]
    }
   ],
   "source": [
    "# Inicializar a tabela Q\n",
    "print('\\nInicializando a Tabela Q...')\n",
    "q_tabela = np.zeros((len(precos), len(acoes)))"
   ]
  },
  {
   "cell_type": "code",
   "execution_count": 23,
   "id": "9ecd712d",
   "metadata": {},
   "outputs": [
    {
     "name": "stdout",
     "output_type": "stream",
     "text": [
      "\n",
      "Inicializando o Treinamento...\n",
      "\n",
      "Treinamento Concluído...\n"
     ]
    }
   ],
   "source": [
    "# Treinamento\n",
    "print('\\nInicializando o Treinamento...')\n",
    "for _ in range(num_episodios):\n",
    "    \n",
    "    # Define o saldo\n",
    "    saldo = saldo_inicial\n",
    "    \n",
    "    # Define o número de ações\n",
    "    num_acoes = num_acoes_inicial\n",
    "\n",
    "    # Loop\n",
    "    for i, preco in enumerate(precos[:-1]):\n",
    "        \n",
    "        estado = i\n",
    "\n",
    "        # Escolher a ação usando a política epsilon-greedy\n",
    "        if np.random.random() < epsilon:\n",
    "            acao = random.choice(range(len(acoes)))\n",
    "        else:\n",
    "            acao = np.argmax(q_tabela[estado])\n",
    "\n",
    "        # Executar a ação e obter a recompensa e o próximo estado\n",
    "        saldo, num_acoes, lucro = executar_acao(estado, acao, saldo, num_acoes, preco)\n",
    "        prox_estado = i + 1\n",
    "\n",
    "        # Atualizar a tabela Q\n",
    "        q_tabela[estado][acao] += alfa * (lucro + gama * np.max(q_tabela[prox_estado]) - q_tabela[estado][acao])\n",
    "\n",
    "print('\\nTreinamento Concluído...')"
   ]
  },
  {
   "cell_type": "markdown",
   "id": "581d47ce",
   "metadata": {},
   "source": [
    "## Executando o Robô Trading e Prevendo o Lucro de Operações na Bolsa de Valores"
   ]
  },
  {
   "cell_type": "code",
   "execution_count": 24,
   "id": "9cd5d6d6",
   "metadata": {},
   "outputs": [],
   "source": [
    "# Valores iniciais para testar o agente\n",
    "saldo = saldo_inicial\n",
    "num_acoes = num_acoes_inicial"
   ]
  },
  {
   "cell_type": "code",
   "execution_count": 25,
   "id": "ce7ad661",
   "metadata": {},
   "outputs": [
    {
     "name": "stdout",
     "output_type": "stream",
     "text": [
      "\n",
      "Executando o Agente...\n",
      "\n",
      "Execução Concluída...\n"
     ]
    }
   ],
   "source": [
    "print('\\nExecutando o Agente...')\n",
    "for i, preco in enumerate(precos[:-1]):\n",
    "    estado = i\n",
    "    acao = np.argmax(q_tabela[estado])\n",
    "    saldo, num_acoes, _ = executar_acao(estado, acao, saldo, num_acoes, preco)\n",
    "    \n",
    "print('\\nExecução Concluída...')"
   ]
  },
  {
   "cell_type": "code",
   "execution_count": 26,
   "id": "c9ae5d01",
   "metadata": {},
   "outputs": [
    {
     "data": {
      "text/plain": [
       "4"
      ]
     },
     "execution_count": 26,
     "metadata": {},
     "output_type": "execute_result"
    }
   ],
   "source": [
    "num_acoes"
   ]
  },
  {
   "cell_type": "code",
   "execution_count": 27,
   "id": "172a7530",
   "metadata": {},
   "outputs": [
    {
     "data": {
      "text/plain": [
       "135.350006"
      ]
     },
     "execution_count": 27,
     "metadata": {},
     "output_type": "execute_result"
    }
   ],
   "source": [
    "precos[-1]"
   ]
  },
  {
   "cell_type": "code",
   "execution_count": 28,
   "id": "645108de",
   "metadata": {},
   "outputs": [],
   "source": [
    "# Vendendo todas as ações no último preço\n",
    "saldo += num_acoes * precos[-1]\n",
    "lucro = saldo - saldo_inicial\n",
    "lucro_final = round(lucro,2)"
   ]
  },
  {
   "cell_type": "code",
   "execution_count": 29,
   "id": "27d168b5",
   "metadata": {},
   "outputs": [
    {
     "name": "stdout",
     "output_type": "stream",
     "text": [
      "\n",
      "Começamos a Negociação com Saldo Inicial de 1000 e Tivemos Lucro de: 45.69\n"
     ]
    }
   ],
   "source": [
    "print(f\"\\nComeçamos a Negociação com Saldo Inicial de 1000 e Tivemos Lucro de: {lucro_final}\")"
   ]
  },
  {
   "cell_type": "code",
   "execution_count": 22,
   "id": "03260889",
   "metadata": {},
   "outputs": [
    {
     "name": "stdout",
     "output_type": "stream",
     "text": [
      "\n",
      "Obrigado Por Usar o Robô Trading do Curso Gratuito da DSA.\n",
      "\n"
     ]
    }
   ],
   "source": [
    "print(\"\\nObrigado Por Usar o Robô Trading do Curso Gratuito da DSA.\\n\")"
   ]
  },
  {
   "cell_type": "markdown",
   "id": "289fae19",
   "metadata": {},
   "source": [
    "# Fim"
   ]
  }
 ],
 "metadata": {
  "kernelspec": {
   "display_name": "Python 3",
   "language": "python",
   "name": "python3"
  },
  "language_info": {
   "codemirror_mode": {
    "name": "ipython",
    "version": 3
   },
   "file_extension": ".py",
   "mimetype": "text/x-python",
   "name": "python",
   "nbconvert_exporter": "python",
   "pygments_lexer": "ipython3",
   "version": "3.12.5"
  }
 },
 "nbformat": 4,
 "nbformat_minor": 5
}
